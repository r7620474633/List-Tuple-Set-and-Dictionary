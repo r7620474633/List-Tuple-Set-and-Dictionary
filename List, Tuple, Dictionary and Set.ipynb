{
 "cells": [
  {
   "cell_type": "markdown",
   "metadata": {},
   "source": [
    "# List"
   ]
  },
  {
   "cell_type": "code",
   "execution_count": 1,
   "metadata": {},
   "outputs": [],
   "source": [
    "l1=[1,8,4,7,21,51]"
   ]
  },
  {
   "cell_type": "code",
   "execution_count": 2,
   "metadata": {},
   "outputs": [
    {
     "data": {
      "text/plain": [
       "[1, 4, 7, 8, 21, 51]"
      ]
     },
     "execution_count": 2,
     "metadata": {},
     "output_type": "execute_result"
    }
   ],
   "source": [
    "# Sort\n",
    "l1.sort()\n",
    "l1"
   ]
  },
  {
   "cell_type": "code",
   "execution_count": 3,
   "metadata": {},
   "outputs": [
    {
     "data": {
      "text/plain": [
       "[51, 21, 8, 7, 4, 1]"
      ]
     },
     "execution_count": 3,
     "metadata": {},
     "output_type": "execute_result"
    }
   ],
   "source": [
    "# Reverse\n",
    "l1.reverse()\n",
    "l1"
   ]
  },
  {
   "cell_type": "code",
   "execution_count": 4,
   "metadata": {},
   "outputs": [
    {
     "data": {
      "text/plain": [
       "[51, 21, 8, 7, 4, 1, 45]"
      ]
     },
     "execution_count": 4,
     "metadata": {},
     "output_type": "execute_result"
    }
   ],
   "source": [
    "# Append :- append at the end of the list\n",
    "l1.append(45)\n",
    "l1"
   ]
  },
  {
   "cell_type": "code",
   "execution_count": 5,
   "metadata": {},
   "outputs": [
    {
     "data": {
      "text/plain": [
       "[51, 21, 67, 8, 7, 4, 1, 45]"
      ]
     },
     "execution_count": 5,
     "metadata": {},
     "output_type": "execute_result"
    }
   ],
   "source": [
    "# Insert :- isert number at the indexing\n",
    "l1.insert(2,67)\n",
    "l1"
   ]
  },
  {
   "cell_type": "code",
   "execution_count": 6,
   "metadata": {},
   "outputs": [
    {
     "data": {
      "text/plain": [
       "[51, 21, 67, 8, 7, 4, 1]"
      ]
     },
     "execution_count": 6,
     "metadata": {},
     "output_type": "execute_result"
    }
   ],
   "source": [
    "# Pop :- delete element\n",
    "l1.pop()\n",
    "l1"
   ]
  },
  {
   "cell_type": "code",
   "execution_count": 7,
   "metadata": {},
   "outputs": [
    {
     "data": {
      "text/plain": [
       "[21, 67, 8, 7, 4, 1]"
      ]
     },
     "execution_count": 7,
     "metadata": {},
     "output_type": "execute_result"
    }
   ],
   "source": [
    "# Remove :- remove the particular element of the list\n",
    "l1.remove(51)\n",
    "l1"
   ]
  },
  {
   "cell_type": "code",
   "execution_count": 8,
   "metadata": {},
   "outputs": [
    {
     "data": {
      "text/plain": [
       "[21, 67, 8, 7, 4, 100, 1]"
      ]
     },
     "execution_count": 8,
     "metadata": {},
     "output_type": "execute_result"
    }
   ],
   "source": [
    "# Insert :- \n",
    "l1.insert(5,100)\n",
    "l1"
   ]
  },
  {
   "cell_type": "code",
   "execution_count": 9,
   "metadata": {},
   "outputs": [
    {
     "data": {
      "text/plain": [
       "[21, 67, 8, 7, 4, 1]"
      ]
     },
     "execution_count": 9,
     "metadata": {},
     "output_type": "execute_result"
    }
   ],
   "source": [
    "l1.remove(100)\n",
    "l1"
   ]
  },
  {
   "cell_type": "markdown",
   "metadata": {},
   "source": [
    "# tuple"
   ]
  },
  {
   "cell_type": "code",
   "execution_count": 10,
   "metadata": {},
   "outputs": [
    {
     "name": "stdout",
     "output_type": "stream",
     "text": [
      "1\n"
     ]
    }
   ],
   "source": [
    "## tuple\n",
    "t = (1,2,4,5,4,1,2,1,1)\n",
    "print(t[0])"
   ]
  },
  {
   "cell_type": "code",
   "execution_count": 11,
   "metadata": {},
   "outputs": [
    {
     "name": "stdout",
     "output_type": "stream",
     "text": [
      "()\n"
     ]
    }
   ],
   "source": [
    "t1=()   # empty tuple\n",
    "print(t1)"
   ]
  },
  {
   "cell_type": "code",
   "execution_count": 12,
   "metadata": {},
   "outputs": [
    {
     "data": {
      "text/plain": [
       "(1,)"
      ]
     },
     "execution_count": 12,
     "metadata": {},
     "output_type": "execute_result"
    }
   ],
   "source": [
    "# tuple with only one element\n",
    "t2=(1,)\n",
    "t2"
   ]
  },
  {
   "cell_type": "code",
   "execution_count": 13,
   "metadata": {},
   "outputs": [
    {
     "data": {
      "text/plain": [
       "tuple"
      ]
     },
     "execution_count": 13,
     "metadata": {},
     "output_type": "execute_result"
    }
   ],
   "source": [
    "type(t2)"
   ]
  },
  {
   "cell_type": "code",
   "execution_count": 14,
   "metadata": {},
   "outputs": [
    {
     "name": "stdout",
     "output_type": "stream",
     "text": [
      "4\n"
     ]
    }
   ],
   "source": [
    "print(t.count(1))"
   ]
  },
  {
   "cell_type": "code",
   "execution_count": 15,
   "metadata": {},
   "outputs": [
    {
     "name": "stdout",
     "output_type": "stream",
     "text": [
      "3\n"
     ]
    }
   ],
   "source": [
    "print(t.index(5))"
   ]
  },
  {
   "cell_type": "code",
   "execution_count": 16,
   "metadata": {},
   "outputs": [],
   "source": [
    "# 1Programs "
   ]
  },
  {
   "cell_type": "code",
   "execution_count": 17,
   "metadata": {},
   "outputs": [
    {
     "name": "stdout",
     "output_type": "stream",
     "text": [
      "Enter fruit number 1: mango\n",
      "Enter fruit number 2: a\n",
      "Enter fruit number 3: s\n",
      "Enter fruit number 4: d\n",
      "Enter fruit number 5: f\n",
      "Enter fruit number 6: g\n",
      "Enter fruit number 7: d\n"
     ]
    }
   ],
   "source": [
    "f1=input(\"Enter fruit number 1: \")\n",
    "f2=input(\"Enter fruit number 2: \")\n",
    "f3=input(\"Enter fruit number 3: \")\n",
    "f4=input(\"Enter fruit number 4: \")\n",
    "f5=input(\"Enter fruit number 5: \")\n",
    "f6=input(\"Enter fruit number 6: \")\n",
    "f7=input(\"Enter fruit number 7: \")"
   ]
  },
  {
   "cell_type": "code",
   "execution_count": 18,
   "metadata": {},
   "outputs": [
    {
     "name": "stdout",
     "output_type": "stream",
     "text": [
      "['mango', 'a', 's', 'd', 'f', 'g', 'd']\n"
     ]
    }
   ],
   "source": [
    "myfruitlist=[f1,f2,f3,f4,f5,f6,f7]\n",
    "print(myfruitlist)"
   ]
  },
  {
   "cell_type": "code",
   "execution_count": 19,
   "metadata": {},
   "outputs": [],
   "source": [
    "# Program 2"
   ]
  },
  {
   "cell_type": "code",
   "execution_count": 20,
   "metadata": {},
   "outputs": [
    {
     "name": "stdout",
     "output_type": "stream",
     "text": [
      "Enter marks number 1: 54\n",
      "Enter marks number 2: 43\n",
      "Enter marks number 3: 2\n",
      "Enter marks number 4: 4\n",
      "Enter marks number 5: 5\n",
      "Enter marks number 6: 67\n",
      "Enter marks number 7: 7\n"
     ]
    }
   ],
   "source": [
    "m1=input(\"Enter marks number 1: \")\n",
    "m2=input(\"Enter marks number 2: \")\n",
    "m3=input(\"Enter marks number 3: \")\n",
    "m4=input(\"Enter marks number 4: \")\n",
    "m5=input(\"Enter marks number 5: \")\n",
    "m6=input(\"Enter marks number 6: \")\n",
    "m7=input(\"Enter marks number 7: \")"
   ]
  },
  {
   "cell_type": "code",
   "execution_count": 21,
   "metadata": {},
   "outputs": [
    {
     "name": "stdout",
     "output_type": "stream",
     "text": [
      "['2', '4', '43', '5', '54', '67', '7']\n"
     ]
    }
   ],
   "source": [
    "mylist=[m1,m2,m3,m4,m5,m6,m7]\n",
    "mylist.sort()\n",
    "print(mylist)"
   ]
  },
  {
   "cell_type": "code",
   "execution_count": 23,
   "metadata": {},
   "outputs": [
    {
     "ename": "TypeError",
     "evalue": "'tuple' object does not support item assignment",
     "output_type": "error",
     "traceback": [
      "\u001b[1;31m---------------------------------------------------------------------------\u001b[0m",
      "\u001b[1;31mTypeError\u001b[0m                                 Traceback (most recent call last)",
      "\u001b[1;32m<ipython-input-23-4d4a4d36b69c>\u001b[0m in \u001b[0;36m<module>\u001b[1;34m\u001b[0m\n\u001b[0;32m      1\u001b[0m \u001b[1;31m# 3 program\u001b[0m\u001b[1;33m\u001b[0m\u001b[1;33m\u001b[0m\u001b[1;33m\u001b[0m\u001b[0m\n\u001b[0;32m      2\u001b[0m \u001b[0ma\u001b[0m\u001b[1;33m=\u001b[0m\u001b[1;33m(\u001b[0m\u001b[1;36m2\u001b[0m\u001b[1;33m,\u001b[0m\u001b[1;36m4\u001b[0m\u001b[1;33m,\u001b[0m\u001b[1;36m5\u001b[0m\u001b[1;33m,\u001b[0m\u001b[1;36m3\u001b[0m\u001b[1;33m,\u001b[0m\u001b[1;36m2\u001b[0m\u001b[1;33m)\u001b[0m\u001b[1;33m\u001b[0m\u001b[1;33m\u001b[0m\u001b[0m\n\u001b[1;32m----> 3\u001b[1;33m \u001b[0ma\u001b[0m\u001b[1;33m[\u001b[0m\u001b[1;36m0\u001b[0m\u001b[1;33m]\u001b[0m\u001b[1;33m=\u001b[0m\u001b[1;36m45\u001b[0m\u001b[1;33m\u001b[0m\u001b[1;33m\u001b[0m\u001b[0m\n\u001b[0m",
      "\u001b[1;31mTypeError\u001b[0m: 'tuple' object does not support item assignment"
     ]
    }
   ],
   "source": [
    "# 3 program\n",
    "a=(2,4,5,3,2)\n",
    "a[0]=45"
   ]
  },
  {
   "cell_type": "code",
   "execution_count": 24,
   "metadata": {},
   "outputs": [
    {
     "name": "stdout",
     "output_type": "stream",
     "text": [
      "69\n",
      "69\n"
     ]
    }
   ],
   "source": [
    "ab=[2,4,56,7]\n",
    "print(ab[0]+ab[1]+ab[2]+ab[3])\n",
    "print(sum(ab))"
   ]
  },
  {
   "cell_type": "code",
   "execution_count": 25,
   "metadata": {},
   "outputs": [
    {
     "data": {
      "text/plain": [
       "3"
      ]
     },
     "execution_count": 25,
     "metadata": {},
     "output_type": "execute_result"
    }
   ],
   "source": [
    "s=(7,0,8,0,0,9)\n",
    "s.count(0)"
   ]
  },
  {
   "cell_type": "markdown",
   "metadata": {},
   "source": [
    "## Dictionary and Set"
   ]
  },
  {
   "cell_type": "code",
   "execution_count": 26,
   "metadata": {},
   "outputs": [],
   "source": [
    "myDict={\n",
    "    \"Fast\": \"In a quick manner\",\n",
    "    \"Rahul\": \"A coder\",\n",
    "    \"Marks\": \"[1,2,3]\",\n",
    "}\n"
   ]
  },
  {
   "cell_type": "code",
   "execution_count": 27,
   "metadata": {},
   "outputs": [
    {
     "name": "stdout",
     "output_type": "stream",
     "text": [
      "{'Fast': 'In a quick manner', 'Rahul': 'A coder', 'Marks': '[1,2,3]'}\n"
     ]
    }
   ],
   "source": [
    "print(myDict)"
   ]
  },
  {
   "cell_type": "code",
   "execution_count": 28,
   "metadata": {},
   "outputs": [
    {
     "name": "stdout",
     "output_type": "stream",
     "text": [
      "[45, 78]\n"
     ]
    }
   ],
   "source": [
    "myDict['Marks']=[45,78]\n",
    "print(myDict['Marks'])"
   ]
  },
  {
   "cell_type": "code",
   "execution_count": 29,
   "metadata": {},
   "outputs": [
    {
     "name": "stdout",
     "output_type": "stream",
     "text": [
      "dict_keys(['Fast', 'Rahul', 'Marks'])\n"
     ]
    }
   ],
   "source": [
    "print(myDict.keys())"
   ]
  },
  {
   "cell_type": "code",
   "execution_count": 30,
   "metadata": {},
   "outputs": [
    {
     "data": {
      "text/plain": [
       "dict"
      ]
     },
     "execution_count": 30,
     "metadata": {},
     "output_type": "execute_result"
    }
   ],
   "source": [
    "type(myDict)"
   ]
  },
  {
   "cell_type": "code",
   "execution_count": 31,
   "metadata": {},
   "outputs": [
    {
     "name": "stdout",
     "output_type": "stream",
     "text": [
      "['Fast', 'Rahul', 'Marks']\n"
     ]
    }
   ],
   "source": [
    "# prints the keys of the dictionary.\n",
    "print(list(myDict.keys()))"
   ]
  },
  {
   "cell_type": "code",
   "execution_count": 32,
   "metadata": {},
   "outputs": [
    {
     "name": "stdout",
     "output_type": "stream",
     "text": [
      "dict_values(['In a quick manner', 'A coder', [45, 78]])\n"
     ]
    }
   ],
   "source": [
    "# Prints the values of the dictionary.\n",
    "print(myDict.values())"
   ]
  },
  {
   "cell_type": "code",
   "execution_count": 33,
   "metadata": {},
   "outputs": [
    {
     "name": "stdout",
     "output_type": "stream",
     "text": [
      "dict_items([('Fast', 'In a quick manner'), ('Rahul', 'A coder'), ('Marks', [45, 78])])\n"
     ]
    }
   ],
   "source": [
    "# prints the (key,value)for all contents of the dictionary\n",
    "print(myDict.items())"
   ]
  },
  {
   "cell_type": "code",
   "execution_count": 34,
   "metadata": {},
   "outputs": [
    {
     "name": "stdout",
     "output_type": "stream",
     "text": [
      "{'Fast': 'In a quick manner', 'Rahul': 'A coder', 'Marks': [45, 78]}\n"
     ]
    }
   ],
   "source": [
    "print(myDict)"
   ]
  },
  {
   "cell_type": "code",
   "execution_count": 35,
   "metadata": {},
   "outputs": [
    {
     "name": "stdout",
     "output_type": "stream",
     "text": [
      "{'Fast': 'In a quick manner', 'Rahul': 'A coder', 'Marks': [45, 78], 'Vijay': 'Friend', 'Ravi': 'Friend'}\n"
     ]
    }
   ],
   "source": [
    "updateDict={\n",
    "    \"Vijay\":\"Friend\",\n",
    "    \"Ravi\":\"Friend\",\n",
    "}\n",
    "myDict.update(updateDict) # Update the dictionary by adding key value pair.\n",
    "print(myDict)"
   ]
  },
  {
   "cell_type": "code",
   "execution_count": 36,
   "metadata": {},
   "outputs": [
    {
     "name": "stdout",
     "output_type": "stream",
     "text": [
      "A coder\n"
     ]
    }
   ],
   "source": [
    "#Prints value associated with key Rahul\n",
    "print(myDict.get(\"Rahul\"))"
   ]
  },
  {
   "cell_type": "code",
   "execution_count": 37,
   "metadata": {},
   "outputs": [
    {
     "name": "stdout",
     "output_type": "stream",
     "text": [
      "A coder\n"
     ]
    }
   ],
   "source": [
    "# #Prints value associated with key Rahul\n",
    "print(myDict[\"Rahul\"])"
   ]
  },
  {
   "cell_type": "markdown",
   "metadata": {},
   "source": [
    "## Set"
   ]
  },
  {
   "cell_type": "code",
   "execution_count": 38,
   "metadata": {},
   "outputs": [
    {
     "name": "stdout",
     "output_type": "stream",
     "text": [
      "{1, 3, 4, 5}\n"
     ]
    },
    {
     "data": {
      "text/plain": [
       "set"
      ]
     },
     "execution_count": 38,
     "metadata": {},
     "output_type": "execute_result"
    }
   ],
   "source": [
    "a={1,3,4,5,1,5}   # Not repeadted item\n",
    "print(a)\n",
    "type(a)"
   ]
  },
  {
   "cell_type": "code",
   "execution_count": 39,
   "metadata": {},
   "outputs": [
    {
     "data": {
      "text/plain": [
       "dict"
      ]
     },
     "execution_count": 39,
     "metadata": {},
     "output_type": "execute_result"
    }
   ],
   "source": [
    "b={}        # empty dictionary\n",
    "type(b)"
   ]
  },
  {
   "cell_type": "code",
   "execution_count": 40,
   "metadata": {},
   "outputs": [
    {
     "data": {
      "text/plain": [
       "set"
      ]
     },
     "execution_count": 40,
     "metadata": {},
     "output_type": "execute_result"
    }
   ],
   "source": [
    "# create empty set\n",
    "c=set()\n",
    "type(c)"
   ]
  },
  {
   "cell_type": "code",
   "execution_count": 41,
   "metadata": {},
   "outputs": [
    {
     "name": "stdout",
     "output_type": "stream",
     "text": [
      "{(5, 6, 7), 4}\n"
     ]
    }
   ],
   "source": [
    "c.add(4)         # cannot be add list or dictionary  \n",
    "c.add((5,6,7))\n",
    "print(c)"
   ]
  },
  {
   "cell_type": "code",
   "execution_count": 42,
   "metadata": {},
   "outputs": [
    {
     "name": "stdout",
     "output_type": "stream",
     "text": [
      "2\n"
     ]
    }
   ],
   "source": [
    "print(len(c))  # length of the set"
   ]
  },
  {
   "cell_type": "code",
   "execution_count": 43,
   "metadata": {},
   "outputs": [
    {
     "data": {
      "text/plain": [
       "{1, 3, 5}"
      ]
     },
     "execution_count": 43,
     "metadata": {},
     "output_type": "execute_result"
    }
   ],
   "source": [
    "a.remove(4)   # remove the particular item in set\n",
    "a"
   ]
  },
  {
   "cell_type": "code",
   "execution_count": 44,
   "metadata": {},
   "outputs": [],
   "source": [
    "# Program 1"
   ]
  },
  {
   "cell_type": "code",
   "execution_count": 45,
   "metadata": {},
   "outputs": [
    {
     "name": "stdout",
     "output_type": "stream",
     "text": [
      "options are dict_keys(['pankha', 'Dabba', 'Vastu'])\n",
      "enter the hindi word\n",
      "Dabba\n",
      "The meaning of your word is :  Box\n"
     ]
    }
   ],
   "source": [
    "mydict={\n",
    "    \"pankha\":\"Fan\",\n",
    "    \"Dabba\":\"Box\",\n",
    "    \"Vastu\":\"Item\"\n",
    "}\n",
    "print(\"options are\", mydict.keys())\n",
    "a=input(\"enter the hindi word\\n\")\n",
    "# print(\"The meaning of your word is : \" , mydict[a])\n",
    "print(\"The meaning of your word is : \" , mydict.get(a))  #this line will not throw an eror if the key is not present in the dict"
   ]
  },
  {
   "cell_type": "code",
   "execution_count": 46,
   "metadata": {},
   "outputs": [
    {
     "name": "stdout",
     "output_type": "stream",
     "text": [
      "enter the no 14\n",
      "enter the no 26\n",
      "enter the no 38\n",
      "enter the no 40\n",
      "enter the no 512\n",
      "enter the no 614\n",
      "enter the no 716\n",
      "enter the no 718\n"
     ]
    }
   ],
   "source": [
    "# WAP to input 8 no from the user and display all the unique num\n",
    "num1=int(input(\"enter the no 1\"))\n",
    "num2=int(input(\"enter the no 2\"))\n",
    "num3=int(input(\"enter the no 3\"))\n",
    "num4=int(input(\"enter the no 4\"))\n",
    "num5=int(input(\"enter the no 5\"))\n",
    "num6=int(input(\"enter the no 6\"))\n",
    "num7=int(input(\"enter the no 7\"))\n",
    "num8=int(input(\"enter the no 7\"))"
   ]
  },
  {
   "cell_type": "code",
   "execution_count": 47,
   "metadata": {},
   "outputs": [
    {
     "name": "stdout",
     "output_type": "stream",
     "text": [
      "{0, 4, 6, 8, 12, 14, 16, 18}\n"
     ]
    }
   ],
   "source": [
    "s={num1,num2,num3,num4,num5,num6,num7,num8}\n",
    "print(s)"
   ]
  },
  {
   "cell_type": "code",
   "execution_count": null,
   "metadata": {},
   "outputs": [],
   "source": []
  },
  {
   "cell_type": "code",
   "execution_count": 51,
   "metadata": {},
   "outputs": [
    {
     "name": "stdout",
     "output_type": "stream",
     "text": [
      "{18, 18.1, '18'}\n"
     ]
    },
    {
     "data": {
      "text/plain": [
       "set"
      ]
     },
     "execution_count": 51,
     "metadata": {},
     "output_type": "execute_result"
    }
   ],
   "source": [
    "st={18,\"18\",18.1}\n",
    "print(st)\n",
    "type(st)"
   ]
  },
  {
   "cell_type": "code",
   "execution_count": 52,
   "metadata": {},
   "outputs": [
    {
     "data": {
      "text/plain": [
       "3"
      ]
     },
     "execution_count": 52,
     "metadata": {},
     "output_type": "execute_result"
    }
   ],
   "source": [
    "len(st)"
   ]
  },
  {
   "cell_type": "code",
   "execution_count": 55,
   "metadata": {},
   "outputs": [
    {
     "data": {
      "text/plain": [
       "2"
      ]
     },
     "execution_count": 55,
     "metadata": {},
     "output_type": "execute_result"
    }
   ],
   "source": [
    "se={20,20.0,\"20\"}\n",
    "se\n",
    "len(se)"
   ]
  },
  {
   "cell_type": "code",
   "execution_count": 56,
   "metadata": {},
   "outputs": [
    {
     "data": {
      "text/plain": [
       "dict"
      ]
     },
     "execution_count": 56,
     "metadata": {},
     "output_type": "execute_result"
    }
   ],
   "source": [
    "sr={}\n",
    "type(sr)"
   ]
  },
  {
   "cell_type": "code",
   "execution_count": null,
   "metadata": {},
   "outputs": [],
   "source": [
    "# program"
   ]
  },
  {
   "cell_type": "code",
   "execution_count": 63,
   "metadata": {},
   "outputs": [
    {
     "name": "stdout",
     "output_type": "stream",
     "text": [
      "enter lan of shubh\n",
      "math\n",
      "enter lan of shubh\n",
      "eng\n",
      "enter lan of piu \n",
      "py\n",
      "enter lan of vij \n",
      "js\n"
     ]
    }
   ],
   "source": [
    "favlang={}\n",
    "a=input('enter lan of shubh\\n')\n",
    "b=input('enter lan of shubh\\n')\n",
    "c=input('enter lan of piu \\n')\n",
    "d=input('enter lan of vij \\n')"
   ]
  },
  {
   "cell_type": "code",
   "execution_count": 66,
   "metadata": {},
   "outputs": [],
   "source": [
    "favlang['shubh']=a\n",
    "favlang['shubh']=b\n",
    "favlang['piu']=c\n",
    "favlang['vij']=d"
   ]
  },
  {
   "cell_type": "code",
   "execution_count": 67,
   "metadata": {},
   "outputs": [
    {
     "name": "stdout",
     "output_type": "stream",
     "text": [
      "{'shubh': 'eng', 'piu': 'py', 'vij': 'js'}\n"
     ]
    }
   ],
   "source": [
    "print(favlang)"
   ]
  },
  {
   "cell_type": "code",
   "execution_count": 69,
   "metadata": {},
   "outputs": [
    {
     "data": {
      "text/plain": [
       "{(1, 2), 12, 7, 8, 'rahul'}"
      ]
     },
     "execution_count": 69,
     "metadata": {},
     "output_type": "execute_result"
    }
   ],
   "source": [
    "s={8,7,12,\"rahul\",(1,2)}\n",
    "s"
   ]
  },
  {
   "cell_type": "code",
   "execution_count": null,
   "metadata": {},
   "outputs": [],
   "source": []
  }
 ],
 "metadata": {
  "kernelspec": {
   "display_name": "Python 3",
   "language": "python",
   "name": "python3"
  },
  "language_info": {
   "codemirror_mode": {
    "name": "ipython",
    "version": 3
   },
   "file_extension": ".py",
   "mimetype": "text/x-python",
   "name": "python",
   "nbconvert_exporter": "python",
   "pygments_lexer": "ipython3",
   "version": "3.8.5"
  }
 },
 "nbformat": 4,
 "nbformat_minor": 4
}
